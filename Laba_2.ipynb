{
 "cells": [
  {
   "cell_type": "code",
   "execution_count": 11,
   "metadata": {},
   "outputs": [],
   "source": [
    "Time=[]\n",
    "for i in range(1,100000,1):\n",
    "    Time.append(i*2e-3)\n",
    "    \n",
    "omega=np.linspace(0,3*math.pi,num=1000)"
   ]
  },
  {
   "cell_type": "markdown",
   "metadata": {},
   "source": [
    "# Графики h(t), ЛАЧХ, ЛФЧХ"
   ]
  },
  {
   "cell_type": "code",
   "execution_count": 12,
   "metadata": {},
   "outputs": [],
   "source": [
    "def Grafiki(w6):\n",
    "    #Нули функции\n",
    "    pzmap(w6)\n",
    "    #Переходная функция\n",
    "\n",
    "    y,x=step(w6,Time)\n",
    "    plt.figure(figsize=SIZE)\n",
    "    plt.grid(True)\n",
    "    plt.plot(x,y)\n",
    "\n",
    "    #АЧХ и ФЧХ\n",
    "    w7=series(w5,w1)\n",
    "    plt.figure(figsize=SIZE)\n",
    "    bode(w7,dB=False)\n",
    "    plt.show()"
   ]
  },
  {
   "cell_type": "markdown",
   "metadata": {},
   "source": [
    "# Критерий Найквиста"
   ]
  },
  {
   "cell_type": "code",
   "execution_count": 13,
   "metadata": {},
   "outputs": [],
   "source": [
    "def Nyquist(w5,w1):\n",
    "    w7=series(w5,w1)\n",
    "    omega=np.linspace(0.5,5,num=1000)\n",
    "    plt.figure(figsize=SIZE)\n",
    "    real, imag, freq = nyquist(w7,omega)\n",
    "\n",
    "    plt.show()"
   ]
  },
  {
   "cell_type": "markdown",
   "metadata": {},
   "source": [
    "# Построение матрицы для критерия Гурвица"
   ]
  },
  {
   "cell_type": "code",
   "execution_count": 14,
   "metadata": {},
   "outputs": [],
   "source": [
    "import numpy as np\n",
    "\n",
    "def Gurvic(w6,fullInform):\n",
    "    \n",
    "    isLastValueWithS=False\n",
    "\n",
    "    ListOfKoef=[]\n",
    "    for i in w6.den:\n",
    "        for j in i:\n",
    "            for koef in j:\n",
    "                ListOfKoef.append(koef)\n",
    "\n",
    "    StepenPolinoma=len(ListOfKoef)-1\n",
    "    #Проверка какой элемент в конце полинома, с операт\\ором или без\n",
    "    if ListOfKoef[-1]==0:\n",
    "        isLastValueWithS=True   \n",
    "    #print(isLastValueWithS)\n",
    "    #Набор матрицы для Гурвица\n",
    "    a=np.diag(ListOfKoef[1:StepenPolinoma]) \n",
    "    iterSdvig=-1\n",
    "    for i in range(0,StepenPolinoma-1):\n",
    "        if i%2==0:\n",
    "            iterSdvig+=1\n",
    "            #print(iterSdvig)\n",
    "        for j in range(0,StepenPolinoma-1):\n",
    "            if i!=j:\n",
    "                if i%2==0:\n",
    "                    if (2*j+1 <= StepenPolinoma):\n",
    "                        try:\n",
    "                            a[i,j+iterSdvig]=ListOfKoef[2*j+1]\n",
    "                        except IndexError:\n",
    "                            break\n",
    "                else:\n",
    "                    if (2*j <= StepenPolinoma):\n",
    "                        try: \n",
    "                            a[i,j+iterSdvig]=ListOfKoef[2*j]\n",
    "                        except IndexError:\n",
    "                            break\n",
    "    #print(\"Определитель \",StepenPolinoma-1,\"степени\")\n",
    "    det=np.linalg.det(a)\n",
    "    #print(det,\"\\n\")\n",
    "    \n",
    "    if fullInform:\n",
    "        print(\"Матрица коэфициентов:\")\n",
    "        print(ListOfKoef,\"\\n\")\n",
    "        print(\"Матрица Гурвица:\")\n",
    "        print(a,\"\\n\")    \n",
    "        SystemStability=True\n",
    "\n",
    "        #Нахождение определителей\n",
    "        for i in range(0,StepenPolinoma-1):\n",
    "            print(\"Определитель \",StepenPolinoma-1-i,\"степени\")\n",
    "            print(np.linalg.det(a),\"\\n\")\n",
    "            if np.linalg.det(a) < 0:\n",
    "                SystemStability=False\n",
    "            a = np.delete(a,(StepenPolinoma-2-i), axis=0)\n",
    "            a = np.delete(a,(StepenPolinoma-2-i), axis=1) \n",
    "\n",
    "            if  SystemStability:\n",
    "                print(\"Система устойчива по критерию Гурвица\")\n",
    "            else: \n",
    "                print(\"Система не устойчива по критерию Гурвица\") \n",
    "    \n",
    "        \n",
    "    return(det)\n"
   ]
  },
  {
   "cell_type": "markdown",
   "metadata": {},
   "source": [
    "# построение годографа Михайлова"
   ]
  },
  {
   "cell_type": "code",
   "execution_count": 15,
   "metadata": {},
   "outputs": [],
   "source": [
    "import numpy as np\n",
    "import math\n",
    "import cmath\n",
    "\n",
    "def Mihailov_func(w):\n",
    "    omega=np.linspace(0,3*math.pi,num=10000)\n",
    "    ListOfKoef=[]\n",
    "    for i in w.den:\n",
    "        for j in i:\n",
    "            for koef in j:\n",
    "                ListOfKoef.append(koef)\n",
    "    StepenPolinoma=len(ListOfKoef)-1\n",
    "    print(ListOfKoef)\n",
    "    F_Mihailov = complex(0,0)\n",
    "    print(F_Mihailov)\n",
    "    Schetchik=0\n",
    "    x=[]\n",
    "    y=[]\n",
    "    for w in omega:\n",
    "        F_Mihailov = complex(0,0)\n",
    "        Schetchik=0\n",
    "        for i in ListOfKoef:\n",
    "            F_Mihailov = F_Mihailov + i*(w*1j)**(StepenPolinoma-Schetchik) \n",
    "            Schetchik+=1\n",
    "            #print(F_Mihailov)\n",
    "            \n",
    "        x.append(F_Mihailov.real)\n",
    "        y.append(F_Mihailov.imag)\n",
    "      \n",
    "    fig=plt.figure(figsize=(10,10))\n",
    "    ax = fig.add_subplot()\n",
    "    plt.ylim(-150, 150) \n",
    "    plt.xlim(-150, 150)\n",
    "    plt.grid(True)\n",
    "    plt.vlines(0, -4000, 1000, color=\"b\")\n",
    "    plt.hlines(0, -4000, 1000, color=\"b\")\n",
    "    plt.plot(x,y)\n",
    "\n"
   ]
  },
  {
   "cell_type": "code",
   "execution_count": 8,
   "metadata": {
    "scrolled": false
   },
   "outputs": [
    {
     "name": "stdout",
     "output_type": "stream",
     "text": [
      "\n",
      "            4.8e-16 s^2 + 0.48 s + 24\n",
      "-------------------------------------------------\n",
      "2.56e-14 s^4 + 25.6 s^3 + 70.4 s^2 + 18.8 s + 121\n",
      "\n"
     ]
    },
    {
     "data": {
      "image/png": "[encoded data removed]",
      "text/plain": [
       "<Figure size 720x720 with 1 Axes>"
      ]
     },
     "metadata": {
      "needs_background": "light"
     },
     "output_type": "display_data"
    }
   ],
   "source": [
    "from control.matlab import *\n",
    "import matplotlib.pyplot as plt\n",
    "import numpy as np\n",
    "SIZE=(10,10)\n",
    "\n",
    "w1=tf([5],[1e-15,1])\n",
    "w2=tf([1],[8,1])\n",
    "w4=tf([24],[8,1])\n",
    "w3=tf([0.01*2,1],[0.05*8,1])\n",
    "w5=series(w2,w3,w4)\n",
    "w6=feedback(w5,w1,-1)\n",
    "print(w6)\n",
    "#pzmap(w6)\n",
    "\n",
    "#Grafiki(w6)\n",
    "\n",
    "Nyquist(w5,w1)\n",
    "\n",
    "#Gurvic(w6,True)\n",
    "#Mihailov_func(w6)"
   ]
  },
  {
   "cell_type": "markdown",
   "metadata": {},
   "source": [
    "# Определение границы устойчивости"
   ]
  },
  {
   "cell_type": "code",
   "execution_count": 61,
   "metadata": {},
   "outputs": [
    {
     "name": "stdout",
     "output_type": "stream",
     "text": [
      "1.9444444444399207\n"
     ]
    }
   ],
   "source": [
    "# переобор значений Koc\n",
    "\n",
    "def Poisk(nachalo,konec):\n",
    "    tochnost=1\n",
    "    flag=True\n",
    "    while tochnost > 0.0000001:\n",
    "        k_oc = np.linspace(nachalo,konec,num=10)\n",
    "        opredeliteli=[]\n",
    "        #print(k_oc)\n",
    "        for i in k_oc:\n",
    "            w1=tf([i],[1e-15,1])\n",
    "            w6=feedback(w5,w1,-1)\n",
    "            b=Gurvic(w6,False)\n",
    "            opredeliteli.append(b)\n",
    "        for i in range(0,len(opredeliteli)-1):\n",
    "            if (opredeliteli[i+1] < 0 and opredeliteli[i] > 0) or (opredeliteli[i+1] > 0 and opredeliteli[i] < 0):\n",
    "                nachalo=k_oc[i]\n",
    "                konec=k_oc[i+1]\n",
    "                #print(opredeliteli[i])\n",
    "                tochnost=abs((opredeliteli[i]-opredeliteli[i+1])/2)\n",
    "                #print(nachalo)\n",
    "                flag=False\n",
    "        if flag:\n",
    "            nachalo=nachalo-10\n",
    "            konec=konec+10\n",
    "    return(nachalo)\n",
    "\n",
    "k_oc=Poisk(2,4)\n",
    "\n",
    "print(k_oc)\n"
   ]
  },
  {
   "cell_type": "code",
   "execution_count": 67,
   "metadata": {
    "scrolled": false
   },
   "outputs": [
    {
     "name": "stdout",
     "output_type": "stream",
     "text": [
      "[2.5600000000000003e-14, 25.600000000000072, 70.40000000000002, 16.88, 25.0]\n",
      "0j\n"
     ]
    },
    {
     "data": {
      "image/png": "[encoded data removed]",
      "text/plain": [
       "<Figure size 720x720 with 1 Axes>"
      ]
     },
     "metadata": {
      "needs_background": "light"
     },
     "output_type": "display_data"
    }
   ],
   "source": [
    "\n",
    "w1=tf([1],[1e-15,1])\n",
    "w6=feedback(w5,w1,-1)\n",
    "#pzmap(w6)\n",
    "#Grafiki(w6)\n",
    "\n",
    "#Nyquist(w5,w1)\n",
    "\n",
    "#Gurvic(w6,True)\n",
    "Mihailov_func(w6)"
   ]
  },
  {
   "cell_type": "code",
   "execution_count": 68,
   "metadata": {
    "scrolled": false
   },
   "outputs": [
    {
     "name": "stdout",
     "output_type": "stream",
     "text": [
      "[2.5600000000000003e-14, 25.600000000000072, 70.40000000000002, 17.33333333333116, 47.6666666665581]\n",
      "0j\n"
     ]
    },
    {
     "data": {
      "image/png": "[encoded data removed]",
      "text/plain": [
       "<Figure size 720x720 with 1 Axes>"
      ]
     },
     "metadata": {
      "needs_background": "light"
     },
     "output_type": "display_data"
    }
   ],
   "source": [
    "\n",
    "w1=tf([k_oc],[1e-15,1])\n",
    "w6=feedback(w5,w1,-1)\n",
    "#pzmap(w6)\n",
    "#rafiki(w6)\n",
    "\n",
    "#Nyquist(w5,w1)\n",
    "\n",
    "#Gurvic(w6,True)\n",
    "Mihailov_func(w6)"
   ]
  },
  {
   "cell_type": "code",
   "execution_count": null,
   "metadata": {},
   "outputs": [],
   "source": []
  }
 ],
 "metadata": {
  "kernelspec": {
   "display_name": "Python 3",
   "language": "python",
   "name": "python3"
  },
  "language_info": {
   "codemirror_mode": {
    "name": "ipython",
    "version": 3
   },
   "file_extension": ".py",
   "mimetype": "text/x-python",
   "name": "python",
   "nbconvert_exporter": "python",
   "pygments_lexer": "ipython3",
   "version": "3.7.3"
  }
 },
 "nbformat": 4,
 "nbformat_minor": 2
}
